{
  "nbformat": 4,
  "nbformat_minor": 0,
  "metadata": {
    "colab": {
      "provenance": []
    },
    "kernelspec": {
      "name": "python3",
      "display_name": "Python 3"
    },
    "language_info": {
      "name": "python"
    }
  },
  "cells": [
    {
      "cell_type": "markdown",
      "metadata": {
        "id": "EbFZA0PIJiyD"
      },
      "source": [
        "For your homework submission, please ensure your Python notebook is correctly renamed to \"Lastname_Firstname_HW1.ipynb\". The assignment is due by February 9, Friday, at 11:59 PM. Be advised that no late submissions will be accepted under any circumstances."
      ]
    },
    {
      "cell_type": "markdown",
      "metadata": {
        "id": "bMFUFyXn-Kzw"
      },
      "source": [
        "# Question 1: Print element (4)\n",
        "\n",
        "Please print out the specified element in the list/dictionary using its index/key"
      ]
    },
    {
      "cell_type": "code",
      "metadata": {
        "id": "VzCZhVmw93ju",
        "colab": {
          "base_uri": "https://localhost:8080/"
        },
        "outputId": "fdc0dabf-dc8c-4d2c-c819-17b88a3e29fe"
      },
      "source": [
        "my_list = [\n",
        "  ['Apple', 'Banana', 'Pineapple'],\n",
        "  ['Adam', 'Lisa', 'Mike'],\n",
        "  ['Python', 'Java', 'Javascript']\n",
        "]\n",
        "\n",
        "# Print Apple\n",
        "print(my_list[0][0])\n",
        "\n",
        "# Print Lisa\n",
        "print(my_list[1][1])\n",
        "\n",
        "# Print Python\n",
        "print(my_list[2][0])\n",
        "\n",
        "my_courses = {\n",
        "    'civil engineering': {\n",
        "        'generial': ['Introduction to Engineering and Design'],\n",
        "        'civil': ['Computing in Civil Engineering', 'Structural Engineering', 'Geotechnical Engineering']\n",
        "        },\n",
        "    'maths': {\n",
        "        'general': ['Calculus I for Engineers', 'Calculus II for Engineers', 'Linear Algebra and Differential Equations']\n",
        "        }\n",
        "}\n",
        "\n",
        "# Print 'Computing in Civil Engineering'\n",
        "print(my_courses['civil engineering']['civil'][0])\n",
        "\n",
        "# Print 'Linear Algebra and Differential Equations'\n",
        "print(my_courses['maths']['general'][2])\n",
        "\n"
      ],
      "execution_count": 28,
      "outputs": [
        {
          "output_type": "stream",
          "name": "stdout",
          "text": [
            "Apple\n",
            "Lisa\n",
            "Python\n",
            "Computing in Civil Engineering\n",
            "Linear Algebra and Differential Equations\n"
          ]
        }
      ]
    },
    {
      "cell_type": "markdown",
      "metadata": {
        "id": "u8Hr-blm_h_y"
      },
      "source": [
        "# Question 2: BMI Calculator (3)\n",
        "\n",
        "\n",
        "BMI (Body Mass Index) is a measurement of body fat based on height and weight that applies to both men and women between the ages of 18 and 65 years.\n",
        "\n",
        "BMI can be used to indicate if you are overweight, obese, underweight or normal. You can calculate BMI using this mathematical formula:\n",
        "\n",
        "`BMI = (Weight in Pounds / (Height in inches x Height in inches)) x 703`\n",
        "\n",
        "Bob is 6'1\" tall and he weighs 185 pounds. Please use the BMI formula above to calculate his BMI and based on the ranges below print out his weight status.\n",
        "\n",
        "\n",
        "\n",
        "* Underweight = <18.5\n",
        "* Normal weight = 18.5–25\n",
        "* Overweight = 25–30\n",
        "* Obesity = BMI of 30 or greater\n",
        "\n",
        "Source: CDC\n",
        "\n",
        "\n",
        "\n"
      ]
    },
    {
      "cell_type": "code",
      "source": [
        "bob_height_inches = ((6 * 12) + 1)\n",
        "bob_weight_pounds = 185\n",
        "\n",
        "BMI = (bob_weight_pounds/(bob_height_inches * bob_height_inches)) * 703\n",
        "print(\"Bob's BMI is:\", BMI)\n",
        "if BMI <= 18.5:\n",
        "  print(\"Underweight\")\n",
        "elif 18.5 < BMI < 25:\n",
        "  print(\"Normal Weight\")\n",
        "elif 25 <= BMI < 30:\n",
        "  print(\"Overweight\")\n",
        "else:\n",
        "  print(\"Obesity\")"
      ],
      "metadata": {
        "id": "Cd0fa0QewRxL",
        "colab": {
          "base_uri": "https://localhost:8080/"
        },
        "outputId": "242d8043-06e0-46bd-c0a8-be8cc5cd3677"
      },
      "execution_count": 1,
      "outputs": [
        {
          "output_type": "stream",
          "name": "stdout",
          "text": [
            "Bob's BMI is: 24.405141677613063\n",
            "Normal Weight\n"
          ]
        }
      ]
    },
    {
      "cell_type": "markdown",
      "metadata": {
        "id": "t8NyLKsCIs-p"
      },
      "source": [
        "# Question 3: Multiply Function (4)\n",
        "\n",
        "`mul()` below is a function that can only take two numbers and return their product. Please modify it so that it can take one or more numbers and calculate their products.\n",
        "\n",
        "(Hint: check the arbitrary argument \"*args\" in the course note)"
      ]
    },
    {
      "cell_type": "code",
      "source": [
        "def mul(*args):\n",
        "    product = 1\n",
        "    for i in args:\n",
        "      product *= i\n",
        "      print(product)\n",
        "\n",
        "mul(2,4,6)"
      ],
      "metadata": {
        "id": "HRW372SRwZZi",
        "colab": {
          "base_uri": "https://localhost:8080/"
        },
        "outputId": "93666343-97ff-4e8e-ac66-a874fb9db5f1"
      },
      "execution_count": 13,
      "outputs": [
        {
          "output_type": "stream",
          "name": "stdout",
          "text": [
            "2\n",
            "8\n",
            "48\n"
          ]
        }
      ]
    }
  ]
}