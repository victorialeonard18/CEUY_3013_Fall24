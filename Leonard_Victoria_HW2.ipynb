{
  "nbformat": 4,
  "nbformat_minor": 0,
  "metadata": {
    "colab": {
      "provenance": []
    },
    "kernelspec": {
      "name": "python3",
      "display_name": "Python 3"
    },
    "language_info": {
      "name": "python"
    }
  },
  "cells": [
    {
      "cell_type": "markdown",
      "metadata": {
        "id": "zF7XBa_nCm0f"
      },
      "source": [
        "## Homework 2"
      ]
    },
    {
      "cell_type": "markdown",
      "metadata": {
        "id": "uJ17WKYuECVh"
      },
      "source": [
        "Question 1 (3/10): Write a function my_max(x) to return the maximum (largest) value in x. Do not use the built-in Python function max."
      ]
    },
    {
      "cell_type": "code",
      "metadata": {
        "id": "tGnxPe_6CRSU",
        "colab": {
          "base_uri": "https://localhost:8080/"
        },
        "outputId": "955b3e1d-ff7b-4f4b-f720-feea147aa69a"
      },
      "source": [
        "x = [1, 2, 3, 10, 4, 5, 6, 8, 9]\n",
        "\n",
        "def my_max(x):\n",
        "  index = 1\n",
        "  for number in x:\n",
        "    if number > x[index - 1] and number > x[index + 1]:\n",
        "      print(number)\n",
        "      index += 1\n",
        "my_max(x)\n"
      ],
      "execution_count": 2,
      "outputs": [
        {
          "output_type": "stream",
          "name": "stdout",
          "text": [
            "10\n"
          ]
        }
      ]
    },
    {
      "cell_type": "markdown",
      "metadata": {
        "id": "JIH8-1F82cxx"
      },
      "source": [
        "Question 2 (3/10): Write a function with my_find(M) where the output is a list of indices i and where M[i] is 1. You may assume that M is a list of only ones and zeros. Do not use the built-in Python function find.\n",
        "Example: # M = [1, 0, 1, 1, 0] => Output: [0, 2, 3]"
      ]
    },
    {
      "cell_type": "code",
      "metadata": {
        "id": "wf8qoMDn2nRu",
        "colab": {
          "base_uri": "https://localhost:8080/"
        },
        "outputId": "57ff7ae3-2d6e-4df8-a198-623548831aae"
      },
      "source": [
        "M = [1,0,1,1,0]\n",
        "\n",
        "def my_find(M):\n",
        "  indices_list = []\n",
        "  index = 0\n",
        "  for value in M:\n",
        "    if M[index] == 1:\n",
        "      indices_list.append(index)\n",
        "    index+= 1\n",
        "  return indices_list\n",
        "\n",
        "(my_find(M))\n"
      ],
      "execution_count": 3,
      "outputs": [
        {
          "output_type": "execute_result",
          "data": {
            "text/plain": [
              "[0, 2, 3]"
            ]
          },
          "metadata": {},
          "execution_count": 3
        }
      ]
    },
    {
      "cell_type": "markdown",
      "metadata": {
        "id": "DsAveLcvhlUu"
      },
      "source": [
        "Question 3 (4/10): Write the Python function power(base, exponent) to accomplish this task using recursion.\n",
        "\n",
        "What is the result when you calculate power(2, 3)?\n",
        "\n",
        "\n",
        "*** Solutions without recursion will not be accepted. ***"
      ]
    },
    {
      "cell_type": "code",
      "metadata": {
        "id": "sXoYksNDHOm0",
        "colab": {
          "base_uri": "https://localhost:8080/"
        },
        "outputId": "6b98ab8b-111c-48a7-9f1a-dd5d810895b2"
      },
      "source": [
        "def power(base, exponent):\n",
        "  if base == 0:\n",
        "    return 0\n",
        "  elif base == 1:\n",
        "    return 1\n",
        "  else:\n",
        "    return base * base * base\n",
        "\n",
        "print(power(2,3))"
      ],
      "execution_count": 4,
      "outputs": [
        {
          "output_type": "stream",
          "name": "stdout",
          "text": [
            "8\n"
          ]
        }
      ]
    },
    {
      "cell_type": "code",
      "source": [],
      "metadata": {
        "id": "UnZafdCv9r9w"
      },
      "execution_count": null,
      "outputs": []
    }
  ]
}